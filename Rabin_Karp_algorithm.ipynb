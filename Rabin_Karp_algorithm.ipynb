{
  "nbformat": 4,
  "nbformat_minor": 0,
  "metadata": {
    "colab": {
      "name": "Rabin-Karp_algorithm.ipynb",
      "version": "0.3.2",
      "provenance": [],
      "include_colab_link": true
    },
    "kernelspec": {
      "name": "python3",
      "display_name": "Python 3"
    }
  },
  "cells": [
    {
      "cell_type": "markdown",
      "metadata": {
        "id": "view-in-github",
        "colab_type": "text"
      },
      "source": [
        "<a href=\"https://colab.research.google.com/github/datoneshot/Algorithms/blob/master/Rabin_Karp_algorithm.ipynb\" target=\"_parent\"><img src=\"https://colab.research.google.com/assets/colab-badge.svg\" alt=\"Open In Colab\"/></a>"
      ]
    },
    {
      "cell_type": "markdown",
      "metadata": {
        "id": "rJsJMNsM3heY",
        "colab_type": "text"
      },
      "source": [
        "# Rabin-Karp String Searching"
      ]
    },
    {
      "cell_type": "markdown",
      "metadata": {
        "id": "KY9zUTRc3qSL",
        "colab_type": "text"
      },
      "source": [
        "## Overview"
      ]
    },
    {
      "cell_type": "markdown",
      "metadata": {
        "id": "VaJ6pkCx31sX",
        "colab_type": "text"
      },
      "source": [
        "### In general the idea seems quite simple, the only thing is that we need a hash function that gives different hashes for different sub-strings. Such hash function, for instance, may use the ASCII codes for every character, but we must be careful for multi-lingual support."
      ]
    },
    {
      "cell_type": "markdown",
      "metadata": {
        "id": "Wv2XPZDc4DJe",
        "colab_type": "text"
      },
      "source": [
        "![alt text](http://www.stoimen.com/wp-content/uploads/2012/04/Rabin-Karp-Basic-Principles.png)"
      ]
    },
    {
      "cell_type": "markdown",
      "metadata": {
        "id": "KQqXKy8x5yFB",
        "colab_type": "text"
      },
      "source": [
        "### The hash function may vary depending on many things, so it may consist of ASCII char to number converting, but it can be also anything else. The only thing we need is to convert a string (pattern) into some hash that is faster to compare. Let’s say we have the string “hello world”, and let’s assume that its hash is hash(‘hello world’) = 12345. So if hash(‘he’) = 1 we can say that the pattern “he” is contained in the text “hello world”. Thus on every step we take from the text a sub-string with the length of m, where m is the pattern length. Thus we hash this sub-string and we can directly compare it to the hashed pattern, as on the picture above."
      ]
    },
    {
      "cell_type": "markdown",
      "metadata": {
        "id": "jPXY3ljm5S90",
        "colab_type": "text"
      },
      "source": [
        "![alt text](./images/rabin-karp.jpg)"
      ]
    },
    {
      "cell_type": "markdown",
      "metadata": {
        "id": "BhyPr_AM59Nd",
        "colab_type": "text"
      },
      "source": [
        "## Implement"
      ]
    },
    {
      "cell_type": "code",
      "metadata": {
        "id": "LwJUaDXW1Zlb",
        "colab_type": "code",
        "colab": {}
      },
      "source": [
        ""
      ],
      "execution_count": 0,
      "outputs": []
    }
  ]
}