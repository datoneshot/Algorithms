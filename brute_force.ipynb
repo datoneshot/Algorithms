{
  "nbformat": 4,
  "nbformat_minor": 0,
  "metadata": {
    "colab": {
      "name": "brute_force.ipynb",
      "version": "0.3.2",
      "provenance": [],
      "include_colab_link": true
    },
    "kernelspec": {
      "name": "python3",
      "display_name": "Python 3"
    }
  },
  "cells": [
    {
      "cell_type": "markdown",
      "metadata": {
        "id": "view-in-github",
        "colab_type": "text"
      },
      "source": [
        "<a href=\"https://colab.research.google.com/github/datoneshot/Algorithms/blob/master/brute_force.ipynb\" target=\"_parent\"><img src=\"https://colab.research.google.com/assets/colab-badge.svg\" alt=\"Open In Colab\"/></a>"
      ]
    },
    {
      "cell_type": "markdown",
      "metadata": {
        "id": "hID0vSNjLGMC",
        "colab_type": "text"
      },
      "source": [
        "#Brute Force String Matching"
      ]
    },
    {
      "cell_type": "markdown",
      "metadata": {
        "id": "j7otujj3LdKn",
        "colab_type": "text"
      },
      "source": [
        "#### Check for a match between the first character of text with the first character of pattern as on the picture bellow."
      ]
    },
    {
      "cell_type": "markdown",
      "metadata": {
        "id": "lzkoVC7_LqOE",
        "colab_type": "text"
      },
      "source": [
        "![alt text](http://www.stoimen.com/wp-content/uploads/2012/03/FirstStepBruteforcestringmatching.png)"
      ]
    },
    {
      "cell_type": "markdown",
      "metadata": {
        "id": "e4XM0k99MsyQ",
        "colab_type": "text"
      },
      "source": [
        "#### If they don't match we move forward the second character of the text. Now we compare the first character of the pattern with the second character of the text. If they don’t match again we move forward until we get a match or until we reach the end of the text."
      ]
    },
    {
      "cell_type": "markdown",
      "metadata": {
        "id": "VLmohxJBNMLf",
        "colab_type": "text"
      },
      "source": [
        "![alt text](http://www.stoimen.com/wp-content/uploads/2012/03/SecondStepBruteforcestringmatching.png)"
      ]
    },
    {
      "cell_type": "markdown",
      "metadata": {
        "id": "F0jeAPPZNaEF",
        "colab_type": "text"
      },
      "source": [
        "#### In case they match we move forward the second character of the pattern comparing it with the “next” character of the text, as on the picture bellow."
      ]
    },
    {
      "cell_type": "markdown",
      "metadata": {
        "id": "433RxnCONgQu",
        "colab_type": "text"
      },
      "source": [
        "![alt text](http://www.stoimen.com/wp-content/uploads/2012/03/ThirdStepBruteforcestringmatching.png)"
      ]
    },
    {
      "cell_type": "markdown",
      "metadata": {
        "id": "1sjC3P-FNwXq",
        "colab_type": "text"
      },
      "source": [
        "#### The pattern is matched when the full pattern is contained into the text."
      ]
    },
    {
      "cell_type": "markdown",
      "metadata": {
        "id": "Lv3AZ9F_N4KJ",
        "colab_type": "text"
      },
      "source": [
        "![alt text](http://www.stoimen.com/wp-content/uploads/2012/03/MatchBruteforcestringmatching.png)"
      ]
    },
    {
      "cell_type": "code",
      "metadata": {
        "id": "6ibxvoX5KzfT",
        "colab_type": "code",
        "colab": {}
      },
      "source": [
        ""
      ],
      "execution_count": 0,
      "outputs": []
    }
  ]
}