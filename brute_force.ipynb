{
  "nbformat": 4,
  "nbformat_minor": 0,
  "metadata": {
    "colab": {
      "name": "brute_force.ipynb",
      "version": "0.3.2",
      "provenance": [],
      "include_colab_link": true
    },
    "kernelspec": {
      "name": "python3",
      "display_name": "Python 3"
    }
  },
  "cells": [
    {
      "cell_type": "markdown",
      "metadata": {
        "id": "view-in-github",
        "colab_type": "text"
      },
      "source": [
        "<a href=\"https://colab.research.google.com/github/datoneshot/Algorithms/blob/master/brute_force.ipynb\" target=\"_parent\"><img src=\"https://colab.research.google.com/assets/colab-badge.svg\" alt=\"Open In Colab\"/></a>"
      ]
    },
    {
      "cell_type": "markdown",
      "metadata": {
        "id": "hID0vSNjLGMC",
        "colab_type": "text"
      },
      "source": [
        "#Brute Force String Matching"
      ]
    },
    {
      "cell_type": "markdown",
      "metadata": {
        "id": "zfX4FzOcQCUF",
        "colab_type": "text"
      },
      "source": [
        "### Overview"
      ]
    },
    {
      "cell_type": "markdown",
      "metadata": {
        "id": "j7otujj3LdKn",
        "colab_type": "text"
      },
      "source": [
        "#### Check for a match between the first character of text with the first character of pattern as on the picture bellow."
      ]
    },
    {
      "cell_type": "markdown",
      "metadata": {
        "id": "lzkoVC7_LqOE",
        "colab_type": "text"
      },
      "source": [
        "![alt text](http://www.stoimen.com/wp-content/uploads/2012/03/FirstStepBruteforcestringmatching.png)"
      ]
    },
    {
      "cell_type": "markdown",
      "metadata": {
        "id": "e4XM0k99MsyQ",
        "colab_type": "text"
      },
      "source": [
        "#### If they don't match we move forward the second character of the text. Now we compare the first character of the pattern with the second character of the text. If they don’t match again we move forward until we get a match or until we reach the end of the text."
      ]
    },
    {
      "cell_type": "markdown",
      "metadata": {
        "id": "VLmohxJBNMLf",
        "colab_type": "text"
      },
      "source": [
        "![alt text](http://www.stoimen.com/wp-content/uploads/2012/03/SecondStepBruteforcestringmatching.png)"
      ]
    },
    {
      "cell_type": "markdown",
      "metadata": {
        "id": "F0jeAPPZNaEF",
        "colab_type": "text"
      },
      "source": [
        "#### In case they match we move forward the second character of the pattern comparing it with the “next” character of the text, as on the picture bellow."
      ]
    },
    {
      "cell_type": "markdown",
      "metadata": {
        "id": "433RxnCONgQu",
        "colab_type": "text"
      },
      "source": [
        "![alt text](http://www.stoimen.com/wp-content/uploads/2012/03/ThirdStepBruteforcestringmatching.png)"
      ]
    },
    {
      "cell_type": "markdown",
      "metadata": {
        "id": "1sjC3P-FNwXq",
        "colab_type": "text"
      },
      "source": [
        "#### The pattern is matched when the full pattern is contained into the text."
      ]
    },
    {
      "cell_type": "markdown",
      "metadata": {
        "id": "Lv3AZ9F_N4KJ",
        "colab_type": "text"
      },
      "source": [
        "![alt text](http://www.stoimen.com/wp-content/uploads/2012/03/MatchBruteforcestringmatching.png)"
      ]
    },
    {
      "cell_type": "markdown",
      "metadata": {
        "id": "1yT7xZqkP8xu",
        "colab_type": "text"
      },
      "source": [
        "### Implement"
      ]
    },
    {
      "cell_type": "code",
      "metadata": {
        "id": "6ibxvoX5KzfT",
        "colab_type": "code",
        "colab": {}
      },
      "source": [
        "def brute_force_matching(text, pattern):\n",
        "  text_len, pattern_len = len(text), len(pattern)\n",
        "  limit = text_len - pattern_len\n",
        "  for i in range(limit):\n",
        "    j, k = i, 0\n",
        "    while k < pattern_len and text[j] == pattern[k]:\n",
        "      k, j = k+1, j+1\n",
        "    if k == pattern_len:\n",
        "      return i\n",
        "  return -1\n",
        "    "
      ],
      "execution_count": 0,
      "outputs": []
    },
    {
      "cell_type": "markdown",
      "metadata": {
        "id": "ty0-MVoFTGAs",
        "colab_type": "text"
      },
      "source": [
        "### Test"
      ]
    },
    {
      "cell_type": "code",
      "metadata": {
        "id": "nzcCJmMZTJPw",
        "colab_type": "code",
        "colab": {
          "base_uri": "https://localhost:8080/",
          "height": 34
        },
        "outputId": "95918e7f-de8d-42cc-82b9-692840e06335"
      },
      "source": [
        "text    = 'hello world!'\n",
        "pattern = 'o wo'\n",
        "\n",
        "index = brute_force_matching(text, pattern) \n",
        "print(\"Index of pattern: '{0}' in text: '{1}': {2}\".format(pattern, text, index))"
      ],
      "execution_count": 4,
      "outputs": [
        {
          "output_type": "stream",
          "text": [
            "Index of pattern: 'o wo' in text: 'hello world!': 4\n"
          ],
          "name": "stdout"
        }
      ]
    },
    {
      "cell_type": "markdown",
      "metadata": {
        "id": "IpilJZbAUtXM",
        "colab_type": "text"
      },
      "source": [
        "### Complexity"
      ]
    },
    {
      "cell_type": "markdown",
      "metadata": {
        "id": "IfqIKhn8Uw2U",
        "colab_type": "text"
      },
      "source": [
        "#### This algorithm is slow. Its complexity is O(n.m)"
      ]
    },
    {
      "cell_type": "markdown",
      "metadata": {
        "id": "Vjce3SmWVBPm",
        "colab_type": "text"
      },
      "source": [
        "![alt text abc](http://www.stoimen.com/wp-content/uploads/2012/03/BruteForceStringMatchingComplexityChart1.png)"
      ]
    },
    {
      "cell_type": "markdown",
      "metadata": {
        "id": "gkCul_CeWWo9",
        "colab_type": "text"
      },
      "source": [
        "#### In case we fix the length of the text and test against variable length of the pattern, again we get rapidly growing function."
      ]
    },
    {
      "cell_type": "markdown",
      "metadata": {
        "id": "I3DDsF0tWcbi",
        "colab_type": "text"
      },
      "source": [
        "![alt text](http://www.stoimen.com/wp-content/uploads/2012/03/BruteForceStringMatchingComplexityChart2.png)"
      ]
    },
    {
      "cell_type": "markdown",
      "metadata": {
        "id": "xZwsPXvKWfG1",
        "colab_type": "text"
      },
      "source": [
        "### Application"
      ]
    },
    {
      "cell_type": "markdown",
      "metadata": {
        "id": "376YTvdmWljC",
        "colab_type": "text"
      },
      "source": [
        "### It can be very useful …\n",
        "1.   Doesn’t require pre-processing of the text – Indeed if we search the text only once we don’t need to pre-process it. Most of the algorithms for string matching need to build an index of the text in order to search quickly. This is great when you’ve to search more than once into a text, but if you do only once, perhaps (for short texts) brute force matching is great!\n",
        "2.   Doesn’t require additional space – Because brute force matching doesn’t need pre-processing it also doesn’t require more space, which is one cool feature of this algorithm\n",
        "3.   Can be quite effective for short texts and patterns\n",
        "\n",
        "\n",
        "### It can be ineffective …\n",
        "\n",
        "1.   If we search more than once the text – As I said in the previous section if you perform the search more than once it’s perhaps better to use another string matching algorithm that builds an index and it’s faster.\n",
        "2.   It’s slow – In general brute force algorithms are slow and brute force matching isn’t an exception.\n",
        "\n",
        "\n",
        "\n"
      ]
    },
    {
      "cell_type": "markdown",
      "metadata": {
        "id": "b1qcy55zXIcA",
        "colab_type": "text"
      },
      "source": [
        "### Practice"
      ]
    },
    {
      "cell_type": "code",
      "metadata": {
        "id": "s8of8WHhU8iY",
        "colab_type": "code",
        "colab": {}
      },
      "source": [
        ""
      ],
      "execution_count": 0,
      "outputs": []
    }
  ]
}